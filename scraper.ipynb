{
 "cells": [
  {
   "attachments": {},
   "cell_type": "markdown",
   "metadata": {},
   "source": [
    "## Biblioteki"
   ]
  },
  {
   "cell_type": "code",
   "execution_count": 66,
   "metadata": {},
   "outputs": [],
   "source": [
    "import json\n",
    "import os\n",
    "import requests\n",
    "from bs4 import BeautifulSoup"
   ]
  },
  {
   "cell_type": "code",
   "execution_count": 72,
   "metadata": {},
   "outputs": [],
   "source": [
    "def extract(ancestor, selector = None, attribute = None, returns_list= False):\n",
    "    if selector: \n",
    "        if returns_list:\n",
    "            if attribute:\n",
    "                return [tag[attribute].strip() for tag in ancestor.select(selector)]\n",
    "            return [tag.get_text().strip() for tag in ancestor.select(selector)]\n",
    "        if attribute: #jeżeli prawda wchodzimy do środka, jeżeli nie to nie potrzebujemy try except\n",
    "            try:\n",
    "                return ancestor.select_one(selector)[attribute].strip()\n",
    "            except TypeError:\n",
    "                return None \n",
    "        try:\n",
    "            return opinion.select_one(selector).get_text().strip()\n",
    "        except AttributeError:\n",
    "            return None\n",
    "    if attribute:\n",
    "        return ancestor[attribute].strip()\n",
    "    return ancestor.get_text().strip()"
   ]
  },
  {
   "cell_type": "code",
   "execution_count": 73,
   "metadata": {},
   "outputs": [],
   "source": [
    "selectors = {\n",
    "                \"opinion_id\": ( None,'data-entry-id'),\n",
    "                \"author\": (\"span.user-post__author-name\",),\n",
    "                \"recommendation\": (\"span.user-post__author-recomendation > em\",),\n",
    "                \"content\": ( \"div.user-post__text\",),\n",
    "                \"pros\" : ( \"div.review-feature__title--positives ~ div.review-feature__item\", None, True),\n",
    "                \"cons\" : ( \"div.review-feature__title--negatives ~ div.review-feature__item\", None, True),\n",
    "                \"useful\": ( 'span[id^=\"vote-yes\"]',),\n",
    "                \"useless\": ('span[id^=\"vote-no\"]',),\n",
    "                \"post_date\": ('span.user-post__published > time:nth-child(1)', \"datetime\"),\n",
    "                \"purchase_date\": ('span.user-post__published > time:nth-child(2)', \"datetime\")\n",
    "            }"
   ]
  },
  {
   "cell_type": "code",
   "execution_count": 69,
   "metadata": {},
   "outputs": [],
   "source": [
    "product_id = \"114700014\"\n",
    "\n",
    "#url = f\"https://www.ceneo.pl/114700014#tab=reviews\" #https://www.ceneo.pl/114700014\n",
    "url = f\"https://www.ceneo.pl/{product_id}#tab=reviews\"# /opinie-1\n"
   ]
  },
  {
   "attachments": {},
   "cell_type": "markdown",
   "metadata": {},
   "source": [
    "# Ekstrakcja składowych pojedynczych opinii\n",
    "| Składowa | Selektor | Zmienna |\n",
    "|----------|----------|---------|\n",
    "| id opinii| [\"data-entry-id\"] | opinion_id|\n",
    "| autor    | span.user-post__author-name |author |\n",
    "| rekomendacja| span.user-post__author-recomendation > em |recommendation|\n",
    "| gwiazdki | span.user-post__score-count| rating|\n",
    "| treść    | div.user-post__text|content | \n",
    "| lista zalet |div.review-feature__title review-feature__title--positives | pros|\n",
    "| lista wad | div.review-feature__title review-feature__title--negatives| cons|\n",
    "| dla ilu przydatna | span[id^=\"vote-yes\"]| useful|\n",
    "| dla ilu nieprzydatna| span[id^=\"vote-no\"]| useless|\n",
    "| data wystawienia | span.user-post__published > time:nth-child(1)[\"datetime\"]| post_date|\n",
    "|data zakupu | span.user-post__published > time:nth-child(2)[\"datetime\"] | purchase_rate |"
   ]
  },
  {
   "cell_type": "code",
   "execution_count": 74,
   "metadata": {},
   "outputs": [],
   "source": [
    "\n",
    "\n",
    "single_opinion = {\n",
    "\"opinion_id\" : opinion['data-entry-id'],\n",
    "\"author\": opinion.select_one(\"span.user-post__author-name\").get_text().strip(),## wyciągnie zawartość znacznikow rekurencyjne #.text jako alternatywa do get_text() \n",
    "#.strip() pozbywamy się białych znaków\n",
    "\"recommendation\" : opinion.select_one('span.user-post__author-recomendation > em'),\n",
    "\"rating\" : opinion.select_one(\"span.user-post__score-count\"),\n",
    "\"content\" : opinion.select_one(\"div.user-post__text\").get_text().strip(),\n",
    "\"pros\" : extract(opinion, \"div.review-feature__title--positives ~ div.review-feature__item\", None, True),\n",
    "\"cons\" : extract(opinion, \"div.review-feature__title--negatives ~ div.review-feature__item\", None, True),\n",
    "\"useful\" : opinion.select_one('span[id^=\"vote-yes\"]'),\n",
    "\"useless\" : opinion.select_one('span[id^=\"vote-no\"]'),\n",
    "\"post_date\" : opinion.select_one('span.user-post__published > time:nth-child(1)')[\"datetime\"].strip(),\n",
    "\"purchase_date\" : opinion.select_one('span.user-post__published > time:nth-child(2)')[\"datetime\"].strip(),\n",
    "}\n",
    "\n"
   ]
  },
  {
   "attachments": {},
   "cell_type": "markdown",
   "metadata": {},
   "source": []
  },
  {
   "cell_type": "code",
   "execution_count": 75,
   "metadata": {},
   "outputs": [
    {
     "name": "stdout",
     "output_type": "stream",
     "text": [
      "https://www.ceneo.pl/114700014#tab=reviews\n",
      "https://www.ceneo.pl/114700014/opinie-2\n",
      "https://www.ceneo.pl/114700014/opinie-3\n",
      "https://www.ceneo.pl/114700014/opinie-4\n",
      "https://www.ceneo.pl/114700014/opinie-5\n",
      "https://www.ceneo.pl/114700014/opinie-6\n",
      "https://www.ceneo.pl/114700014/opinie-7\n",
      "https://www.ceneo.pl/114700014/opinie-8\n",
      "https://www.ceneo.pl/114700014/opinie-9\n",
      "https://www.ceneo.pl/114700014/opinie-10\n",
      "https://www.ceneo.pl/114700014/opinie-11\n",
      "https://www.ceneo.pl/114700014/opinie-12\n",
      "https://www.ceneo.pl/114700014/opinie-13\n",
      "https://www.ceneo.pl/114700014/opinie-14\n",
      "https://www.ceneo.pl/114700014/opinie-15\n",
      "https://www.ceneo.pl/114700014/opinie-16\n",
      "https://www.ceneo.pl/114700014/opinie-17\n",
      "https://www.ceneo.pl/114700014/opinie-18\n"
     ]
    }
   ],
   "source": [
    "all_opinions = []\n",
    "while(url):\n",
    "    print(url)\n",
    "    response = requests.get(url)\n",
    "    page_dom = BeautifulSoup(response.text, \"html.parser\")\n",
    "    opinions = page_dom.select(\"div.js_product-review\")\n",
    "    for opinion in opinions:\n",
    "            single_opinion = {\n",
    "                key: extract(opinion,*value)\n",
    "                    for key, value in selectors.items()\n",
    "            }\n",
    "            all_opinions.append(single_opinion)\n",
    "       \n",
    "    try:\n",
    "        url = \"https://www.ceneo.pl\"+extract(page_dom, \"a.pagination__next\", \"href\")\n",
    "    except TypeError:\n",
    "        url = None"
   ]
  },
  {
   "cell_type": "code",
   "execution_count": 76,
   "metadata": {},
   "outputs": [],
   "source": [
    "if not os.path.exists(\"opinions\"):\n",
    "    os.mkdir(\"opinions\")\n",
    "with open(f\"opinions/{product_id}.json\",\"w\",encoding=\"UTF-8\") as jf:\n",
    "    json.dump(all_opinions, jf, indent=4, ensure_ascii = False) #narodowe znaki diakrytyczne będą się poprawnie wyświetlać"
   ]
  },
  {
   "cell_type": "code",
   "execution_count": null,
   "metadata": {},
   "outputs": [],
   "source": [
    "len(opinions)"
   ]
  }
 ],
 "metadata": {
  "kernelspec": {
   "display_name": ".venv",
   "language": "python",
   "name": "python3"
  },
  "language_info": {
   "codemirror_mode": {
    "name": "ipython",
    "version": 3
   },
   "file_extension": ".py",
   "mimetype": "text/x-python",
   "name": "python",
   "nbconvert_exporter": "python",
   "pygments_lexer": "ipython3",
   "version": "3.11.4"
  },
  "orig_nbformat": 4
 },
 "nbformat": 4,
 "nbformat_minor": 2
}
