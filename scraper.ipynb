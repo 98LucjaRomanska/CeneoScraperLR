{
 "cells": [
  {
   "attachments": {},
   "cell_type": "markdown",
   "metadata": {},
   "source": [
    "## Biblioteki"
   ]
  },
  {
   "cell_type": "code",
   "execution_count": 41,
   "metadata": {},
   "outputs": [],
   "source": [
    "import json\n",
    "import os\n",
    "import requests\n",
    "from bs4 import BeautifulSoup"
   ]
  },
  {
   "cell_type": "code",
   "execution_count": 68,
   "metadata": {},
   "outputs": [
    {
     "data": {
      "text/plain": [
       "200"
      ]
     },
     "execution_count": 68,
     "metadata": {},
     "output_type": "execute_result"
    }
   ],
   "source": [
    "product_id = \"11740014\"\n",
    "\n",
    "#url = f\"https://www.ceneo.pl/114700014\" #https://www.ceneo.pl/114700014\n",
    "url = f\"https://www.ceneo.pl/{product_id}/opinie-1\"\n",
    "response = requests.get(url)\n",
    "response.status_code"
   ]
  },
  {
   "attachments": {},
   "cell_type": "markdown",
   "metadata": {},
   "source": [
    "# Ekstrakcja składowych pojedynczych opinii\n",
    "| Składowa | Selektor | Zmienna |\n",
    "|----------|----------|---------|\n",
    "| id opinii| [\"data-entry-id\"] | opinion_id|\n",
    "| autor    | span.user-post__author-name |author |\n",
    "| rekomendacja| span.user-post__author-recomendation > em |recommendation|\n",
    "| gwiazdki | span.user-post__score-count| rating|\n",
    "| treść    | div.user-post__text|content | \n",
    "| lista zalet |div.review-feature__title review-feature__title--positives | pros|\n",
    "| lista wad | div.review-feature__title review-feature__title--negatives| cons|\n",
    "| dla ilu przydatna | span[id^=\"vote-yes\"]| useful|\n",
    "| dla ilu nieprzydatna| span[id^=\"vote-no\"]| useless|\n",
    "| data wystawienia | span.user-post__published > time:nth-child(1)[\"datetime\"]| post_date|\n",
    "|data zakupu | span.user-post__published > time:nth-child(2)[\"datetime\"] | purchase_rate |"
   ]
  },
  {
   "cell_type": "code",
   "execution_count": 70,
   "metadata": {},
   "outputs": [],
   "source": [
    "single_opinion = {\n",
    "\"opinion_id\" : opinion['data-entry-id'],\n",
    "\"author\": opinion.select_one(\"span.user-post__author-name\").get_text().strip(),## wyciągnie zawartość znacznikow rekurencyjne #.text jako alternatywa do get_text() \n",
    "#.strip() pozbywamy się białych znaków\n",
    "\"recommendation\" : opinion.select_one('span.user-post__author-recomendation > em'),\n",
    "\"rating\" : opinion.select_one(\"span.user-post__score-count\"),\n",
    "\"content\" : opinion.select_one(\"div.user-post__text\").get_text().strip(),\n",
    "\"pros\" : [p.get_text().strip() for p in opinion.select(\"div.review-feature__title--positives ~ div.review-feature__item\")],\n",
    "\"cons\" : [c.get_text().strip() for c in opinion.select(\"div.review-feature__title--negatives ~ div.review-feature__item\")],\n",
    "\"useful\" : opinion.select_one('span[id^=\"vote-yes\"]'),\n",
    "\"useless\" : opinion.select_one('span[id^=\"vote-no\"]'),\n",
    "\"post_date\" : opinion.select_one('span.user-post__published > time:nth-child(1)')[\"datetime\"].strip(),\n",
    "\"purchase_date\" : opinion.select_one('span.user-post__published > time:nth-child(2)')[\"datetime\"].strip(),\n",
    "}\n",
    "\n"
   ]
  },
  {
   "attachments": {},
   "cell_type": "markdown",
   "metadata": {},
   "source": []
  },
  {
   "cell_type": "code",
   "execution_count": 75,
   "metadata": {},
   "outputs": [],
   "source": [
    "all_opinions = []\n",
    "while(url):\n",
    "    response = requests.get(url)\n",
    "    page_dom = BeautifulSoup(response.text, \"html.parser\")\n",
    "    opinions = page_dom.select(\"div.js_product-review\")\n",
    "    for opinion in opinions:\n",
    "        try:\n",
    "            single_opinion = {\n",
    "                \"opinion_id\": opinion['data-entry-id'],\n",
    "                \"author\": opinion.select_one(\"span.user-post__author-name\").get_text().strip(),## wyciągnie zawartość znacznikow rekurencyjne #.text jako alternatywa do get_text() \n",
    "                #.strip() pozbywamy się białych znaków\n",
    "                \"recommendation\": opinion.select_one('span.user-post__author-recomendation > em'),\n",
    "                \"rating\": opinion.select_one(\"span.user-post__score-count\"),\n",
    "                \"content\": opinion.select_one(\"div.user-post__text\").get_text().strip(),\n",
    "                \"pros\": [p.get_text().strip() for p in opinion.select(\"div.review-feature__title--positives ~ div.review-feature__item\")],\n",
    "                \"cons\": [c.get_text().strip() for c in opinion.select(\"div.review-feature__title--negatives ~ div.review-feature__item\")],\n",
    "                \"useful\": opinion.select_one('span[id^=\"vote-yes\"]'),\n",
    "                \"useless\": opinion.select_one('span[id^=\"vote-no\"]'),\n",
    "                \"post_date\": opinion.select_one('span.user-post__published > time:nth-child(1)')[\"datetime\"].strip(),\n",
    "                \"purchase_date\": opinion.select_one('span.user-post__published > time:nth-child(2)')[\"datetime\"].strip()\n",
    "            }\n",
    "            all_opinions.append(single_opinion)\n",
    "        except (AttributeError, TypeError):\n",
    "            pass\n",
    "    try:\n",
    "        url = \"https://www.ceneo.pl\"+page_dom.select_one(\"a.pagination__next\")[\"href\"]\n",
    "    except TypeError:\n",
    "        url = None"
   ]
  },
  {
   "cell_type": "code",
   "execution_count": 72,
   "metadata": {},
   "outputs": [],
   "source": [
    "if not os.path.exists(\"opinions\"):\n",
    "    os.mkdir(\"opinions\")\n",
    "with open(f\"opinions/{product_id}.json\",\"w\",encoding=\"UTF-8\") as jf:\n",
    "    json.dump(all_opinions, jf, indent=4, ensure_ascii = False) #narodowe znaki diakrytyczne będą się poprawnie wyświetlać"
   ]
  },
  {
   "cell_type": "code",
   "execution_count": 60,
   "metadata": {},
   "outputs": [
    {
     "data": {
      "text/plain": [
       "10"
      ]
     },
     "execution_count": 60,
     "metadata": {},
     "output_type": "execute_result"
    }
   ],
   "source": [
    "len(opinions)"
   ]
  }
 ],
 "metadata": {
  "kernelspec": {
   "display_name": ".venv",
   "language": "python",
   "name": "python3"
  },
  "language_info": {
   "codemirror_mode": {
    "name": "ipython",
    "version": 3
   },
   "file_extension": ".py",
   "mimetype": "text/x-python",
   "name": "python",
   "nbconvert_exporter": "python",
   "pygments_lexer": "ipython3",
   "version": "3.11.4"
  },
  "orig_nbformat": 4
 },
 "nbformat": 4,
 "nbformat_minor": 2
}
